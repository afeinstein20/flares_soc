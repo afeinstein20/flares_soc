{
 "cells": [
  {
   "cell_type": "code",
   "execution_count": 22,
   "metadata": {},
   "outputs": [],
   "source": [
    "import astropy.io.ascii as asc\n",
    "import numpy as np\n",
    "import emcee\n",
    "from mpmath import expint, mp\n",
    "import matplotlib.pyplot as plt\n",
    "\n",
    "COLOR = 'k'#'#FFFAF1'\n",
    "plt.rcParams['font.size'] = 20\n",
    "plt.rcParams['text.color'] = COLOR\n",
    "plt.rcParams['axes.labelcolor'] = COLOR\n",
    "plt.rcParams['xtick.color'] = COLOR\n",
    "plt.rcParams['ytick.color'] = COLOR\n",
    "\n",
    "plt.rcParams['xtick.major.width'] = 3\n",
    "plt.rcParams['ytick.major.width'] = 3\n",
    "plt.rcParams['xtick.major.size']  = 14 #12\n",
    "plt.rcParams['ytick.major.size']  = 14#12\n",
    "\n",
    "plt.rcParams['xtick.minor.width'] = 1\n",
    "plt.rcParams['ytick.minor.width'] = 1\n",
    "plt.rcParams['xtick.minor.size']  = 8\n",
    "plt.rcParams['ytick.minor.size']  = 8\n",
    "\n",
    "plt.rcParams['axes.linewidth'] = 3\n",
    "lw = 5\n",
    "\n",
    "plt.rcParams['text.color'] = COLOR\n",
    "plt.rcParams['xtick.color'] = COLOR\n",
    "plt.rcParams['ytick.color'] = COLOR\n",
    "plt.rcParams['axes.labelcolor'] = COLOR\n",
    "#plt.rcParams['axes.spines.top'] = False\n",
    "#plt.rcParams['axes.spines.right'] = False\n",
    "plt.rcParams['axes.labelcolor'] = COLOR\n",
    "plt.rcParams['axes.edgecolor'] = COLOR\n",
    "plt.rcParams['figure.facecolor'] = 'none'\n",
    "plt.rcParams['legend.facecolor'] = 'none'\n",
    "\n",
    "parula = np.load('/Users/arcticfox/parula_colors.npy')"
   ]
  },
  {
   "cell_type": "code",
   "execution_count": 26,
   "metadata": {},
   "outputs": [],
   "source": [
    "def lnp(params, loga):\n",
    "\n",
    "    # Note: params[0] = q, params[1] = a*                                                                                   \n",
    "    q = params[0]\n",
    "    astar = 10.**params[1]\n",
    "\n",
    "    # Enforce limits to ensure that the normalization remains bounded                                                       \n",
    "    if q < 0: return -np.inf\n",
    "    if a0/astar > 100: return -np.inf\n",
    "\n",
    "    # Compute normalization; note that we need to use mpmath's                                                              \n",
    "    # implementation of the generalized exponential integral here,                                                          \n",
    "    # rather than the faster scipy one, because scipy's implementation                                                      \n",
    "    # does not support non-integral orders                                                                                  \n",
    "    norm = a0**(q-1) / mp.mpf(expint(q, a0/astar))\n",
    "\n",
    "    # Compute log likeilhood and return                                                                                     \n",
    "    return loga.size * mp.log(norm) - q * np.sum(loga) - np.sum(np.exp(loga))/astar\n",
    "\n",
    "# Functional form of PDF, for plotting purposes                                                                             \n",
    "def pdf(a, q, astar):\n",
    "    norm = a0**(q-1) / mp.mpf(expint(q, a0/astar))\n",
    "    return norm * a**-q * np.exp(-a/astar)"
   ]
  },
  {
   "cell_type": "code",
   "execution_count": 27,
   "metadata": {},
   "outputs": [],
   "source": [
    "# Read data                                                                                                               \n",
    "data = asc.read('flare_outputs.csv')\n",
    "amp = data['amp']\n",
    "period = data['Prot']\n",
    "a0 = np.amin(amp)\n",
    "\n",
    "# Cut by period\n",
    "amp0 = amp[period < 3]\n",
    "amp1 = amp[period >= 3]"
   ]
  },
  {
   "cell_type": "code",
   "execution_count": 28,
   "metadata": {},
   "outputs": [
    {
     "name": "stderr",
     "output_type": "stream",
     "text": [
      "100%|███████████████████████████████████████████████████████████████████████████████████| 2500/2500 [02:21<00:00, 17.71it/s]\n",
      "100%|███████████████████████████████████████████████████████████████████████████████████| 2500/2500 [02:09<00:00, 19.32it/s]\n"
     ]
    }
   ],
   "source": [
    "# Initialize walker positions\n",
    "ndim, nwalkers = 2, 100\n",
    "walkers = np.zeros((nwalkers, ndim))\n",
    "walkers[:,0] = 1 + 0.5 * (np.random.rand(nwalkers) - 0.5)    # q                                                            \n",
    "walkers[:,1] = np.random.rand(nwalkers) - 1.0                # a* \n",
    "\n",
    "nstep = 2500\n",
    "nburn = 1000\n",
    "sampler = emcee.EnsembleSampler(\n",
    "    nwalkers, ndim, lnp, args=[np.log(amp0)])\n",
    "sampler.run_mcmc(walkers, nstep, progress=True)\n",
    "samples_short = sampler.get_chain()[nburn:,:,:].reshape((nstep-nburn)*nwalkers,ndim)\n",
    "np.save('short_period.npy', samples_short)\n",
    "\n",
    "\n",
    "# Run on long-period data and save samples\n",
    "sampler = emcee.EnsembleSampler(\n",
    "    nwalkers, ndim, lnp, args=[np.log(amp1)])\n",
    "sampler.run_mcmc(walkers, nstep, progress=True)\n",
    "samples_long = sampler.get_chain()[nburn:,:,:].reshape((nstep-nburn)*nwalkers,ndim)\n",
    "np.save('long_period.npy', samples_long)\n",
    "\n",
    "# Print percentiles\n",
    "alphapshort = np.percentile(samples_short[:,0], [5,50,95])\n",
    "alphaplong = np.percentile(samples_long[:,0], [5,50,95])\n",
    "astarpshort = np.percentile(samples_short[:,1], [5,50,95])\n",
    "astarplong = np.percentile(samples_long[:,1], [5,50,95])"
   ]
  },
  {
   "cell_type": "code",
   "execution_count": 40,
   "metadata": {},
   "outputs": [],
   "source": [
    "samples_short = np.load('/Users/arcticfox/Downloads/short_period.npy')\n",
    "samples_long = np.load('/Users/arcticfox/Downloads/long_period.npy')"
   ]
  },
  {
   "cell_type": "code",
   "execution_count": 49,
   "metadata": {},
   "outputs": [
    {
     "data": {
      "text/plain": [
       "1.2105225112959308"
      ]
     },
     "execution_count": 49,
     "metadata": {},
     "output_type": "execute_result"
    }
   ],
   "source": [
    "np.nanmedian(samples_short[:,0])"
   ]
  },
  {
   "cell_type": "code",
   "execution_count": 45,
   "metadata": {},
   "outputs": [
    {
     "data": {
      "image/png": "[encoded data removed]",
      "text/plain": [
       "<Figure size 576x288 with 1 Axes>"
      ]
     },
     "metadata": {
      "needs_background": "light"
     },
     "output_type": "display_data"
    }
   ],
   "source": [
    "# Plot histogram of slopes\n",
    "plt.figure(figsize=(8,4))\n",
    "\n",
    "c1=100\n",
    "c2=210\n",
    "\n",
    "plt.hist(samples_short[:,0], density=True, \n",
    "         color=parula[c1],alpha=0.5)\n",
    "plt.hist(samples_short[:,0], density=True, label='P < 3 days',\n",
    "         edgecolor=parula[c1],histtype='bar',fill=None,lw=3.5)\n",
    "\n",
    "plt.hist(samples_long[:,0], density=True, \n",
    "        color=parula[c2],alpha=0.5)\n",
    "plt.hist(samples_long[:,0], density=True, label='P $\\geq$ 3 days',\n",
    "        edgecolor=parula[c2],histtype='bar',fill=None,lw=3.5)\n",
    "\n",
    "\n",
    "plt.legend(bbox_to_anchor=(0., 1.02, 1., .102), loc='lower left',\n",
    "           ncol=2, mode=\"expand\", borderaxespad=0., fontsize=16)\n",
    "plt.xlabel(r\"Flare Amplitude Power-Law Slope, $\\alpha$'\")\n",
    "plt.ylabel(r'Probability density')\n",
    "plt.savefig('/Users/arcticfox/Desktop/hist.pdf')"
   ]
  },
  {
   "cell_type": "code",
   "execution_count": null,
   "metadata": {},
   "outputs": [],
   "source": []
  }
 ],
 "metadata": {
  "kernelspec": {
   "display_name": "pymc3_env",
   "language": "python",
   "name": "pymc3_env"
  },
  "language_info": {
   "codemirror_mode": {
    "name": "ipython",
    "version": 3
   },
   "file_extension": ".py",
   "mimetype": "text/x-python",
   "name": "python",
   "nbconvert_exporter": "python",
   "pygments_lexer": "ipython3",
   "version": "3.9.7"
  }
 },
 "nbformat": 4,
 "nbformat_minor": 2
}
